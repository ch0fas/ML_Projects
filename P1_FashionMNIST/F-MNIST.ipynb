{
 "cells": [
  {
   "cell_type": "markdown",
   "id": "62b6d603",
   "metadata": {},
   "source": [
    "___\n",
    "<img style=\"float: right; margin: 15px 15px 15px 15px;\" src=\"https://external-content.duckduckgo.com/iu/?u=https%3A%2F%2F4.bp.blogspot.com%2F-OQZGt_5WqDo%2FWa_Dfa4U15I%2FAAAAAAAAAUI%2FveRmAmUUKFA19dVw6XCOV2YLO6n-y_omwCLcBGAs%2Fs1600%2Fout.jpg&f=1&nofb=1&ipt=1dd6a02de0e3c13ae4585e7abf56f5191364c82f5f94af05007bc3e46a5d8866\" width=\"200px\" height=\"180px\" />\n",
    "\n",
    "\n",
    "# <font color= #bbc28d> **Fashion MNIST** </font>\n",
    "#### <font color= #2E9AFE> `Project 1 - Machine Learning`</font>\n",
    "- <Strong> Sofía Maldonado, Diana Valdivia, Samantha Sánchez, Isabel Valladolid & Vivienne Toledo </Strong>\n",
    "- <Strong> Fecha </Strong>: 21/09/2025.\n",
    "\n",
    "___\n",
    "\n",
    "<p style=\"text-align:right;\"> Image retrieved from: https://external-content.duckduckgo.com/iu/?u=https%3A%2F%2F4.bp.blogspot.com%2F-OQZGt_5WqDo%2FWa_Dfa4U15I%2FAAAAAAAAAUI%2FveRmAmUUKFA19dVw6XCOV2YLO6n-y_omwCLcBGAs%2Fs1600%2Fout.jpg&f=1&nofb=1&ipt=1dd6a02de0e3c13ae4585e7abf56f5191364c82f5f94af05007bc3e46a5d8866</p>"
   ]
  },
  {
   "cell_type": "markdown",
   "id": "c2b98928",
   "metadata": {},
   "source": [
    "# <font color= #bbc28d> **Introduction** </font>\n",
    "The goal of this project is to classify fashion items using the **Fashion-MNIST** image dataset, which contains **60,000 training** images and **10,000 test** images of 28×28 grayscale images representing 10 different categories (e.g., t-shirts, trousers, sneakers).\n",
    "\n",
    "We will implement and evaluate various machine learning and deep learning algorithms to compare their performance in image classification:\n",
    "- Logistic Regression \n",
    "- Support Vector Machine (SVM)\n",
    "- Random Forest\n",
    "- Neural Network (MLP) \n",
    "- Convolutional Neural Network (CNN) \n",
    "\n",
    "The project will involve loading and preprocessing the dataset, training each model, and evaluating their accuracy on the test set to understand how different algorithms perform on visual data classification tasks"
   ]
  },
  {
   "cell_type": "markdown",
   "id": "5e549235",
   "metadata": {},
   "source": [
    "# <font color= #bbc28d> **Data Preprocessing** </font>\n",
    "Before modeling, we must preprocess the data to achieve better results and ensure it can be used by our models."
   ]
  },
  {
   "cell_type": "code",
   "execution_count": 1,
   "id": "f0009355",
   "metadata": {},
   "outputs": [],
   "source": [
    "# General\n",
    "import numpy as np\n",
    "import time\n",
    "from tensorflow.keras import datasets\n",
    "\n",
    "# Visualization\n",
    "import matplotlib.pyplot as plt\n",
    "import seaborn as sns\n",
    "\n",
    "# Pre-processing\n",
    "from sklearn.model_selection import train_test_split\n",
    "from tensorflow.keras.preprocessing.image import ImageDataGenerator\n",
    "from sklearn.pipeline import Pipeline\n",
    "\n",
    "# Models\n",
    "from sklearn.model_selection import GridSearchCV\n",
    "from sklearn.neural_network import MLPClassifier\n",
    "from sklearn.ensemble import RandomForestClassifier\n",
    "from sklearn.ensemble import GradientBoostingClassifier\n",
    "from sklearn.linear_model import LogisticRegression\n",
    "\n",
    "# Metrics\n",
    "from sklearn.metrics import accuracy_score, precision_score, recall_score, f1_score, confusion_matrix, ConfusionMatrixDisplay\n",
    "\n",
    "# Pytorch CNN\n",
    "import torch\n",
    "import torch.nn as nn\n",
    "import torch.nn.functional as F\n",
    "from torch.utils.data import DataLoader, Dataset\n",
    "from torchvision import transforms\n",
    "from torchvision import datasets as torchdata"
   ]
  },
  {
   "cell_type": "markdown",
   "id": "f6cd8ad7",
   "metadata": {},
   "source": [
    "### <font color= #bbc28d>• **Data Loading** </font>\n",
    "We load the Fashion-MNIST dataset and then split the original training set into a **training and development (validation)** set using an 80-20 split. The split keeps the class distribution consistent.\n",
    "So in total we have:\n",
    "- Train data - 48_000 [For training our models]\n",
    "- Dev data - 12_000 [Tunning the params]\n",
    "- Test data - 10_000 [One blind real test]"
   ]
  },
  {
   "cell_type": "code",
   "execution_count": 2,
   "id": "79fc76c1",
   "metadata": {},
   "outputs": [
    {
     "name": "stdout",
     "output_type": "stream",
     "text": [
      "Train Data: (48000, 28, 28) \n",
      "\n",
      "Dev Data: (12000, 28, 28) \n",
      "\n",
      "Test Data: (10000, 28, 28)\n"
     ]
    }
   ],
   "source": [
    "(X_train, y_train), (X_test, y_test) = datasets.fashion_mnist.load_data()\n",
    "\n",
    "X_train, X_dev, y_train, y_dev = train_test_split(X_train, y_train, test_size=0.2, random_state=42, stratify=y_train)\n",
    "\n",
    "print(f\"\"\"Train Data: {X_train.shape} \\n\n",
    "Dev Data: {X_dev.shape} \\n\n",
    "Test Data: {X_test.shape}\"\"\")"
   ]
  },
  {
   "cell_type": "code",
   "execution_count": 3,
   "id": "680afc6e",
   "metadata": {},
   "outputs": [
    {
     "data": {
      "image/png": "[encoded data removed]",
      "text/plain": [
       "<Figure size 1000x500 with 10 Axes>"
      ]
     },
     "metadata": {},
     "output_type": "display_data"
    }
   ],
   "source": [
    "# Visualize the images\n",
    "class_names = [\"T-shirt/top\", \"Trouser\", \"Pullover\", \"Dress\", \"Coat\",\n",
    "               \"Sandal\", \"Shirt\", \"Sneaker\", \"Bag\", \"Ankle boot\"]\n",
    "\n",
    "plt.figure(figsize=(10,5))\n",
    "for i in range(10):\n",
    "    plt.subplot(2, 5, i+1)\n",
    "    plt.imshow(X_train[i].reshape(28,28), cmap=\"gray\")\n",
    "    plt.title(class_names[y_train[i]])\n",
    "    plt.axis(\"off\")\n",
    "plt.show()"
   ]
  },
  {
   "cell_type": "markdown",
   "id": "b41a94b0",
   "metadata": {},
   "source": [
    "### <font color= #bbc28d>• **Image Normalization** </font>\n",
    "Pixel values range from 0 to 255. Scaling them to [0,1] improves model performance."
   ]
  },
  {
   "cell_type": "code",
   "execution_count": 4,
   "id": "14bed3e2",
   "metadata": {},
   "outputs": [],
   "source": [
    "# Normalize and expand dims [for keras imagedatagenerator]\n",
    "X_train_norm = np.expand_dims(X_train, -1).astype(np.float32) / 255.0\n",
    "\n",
    "# Simple normalize and flatten\n",
    "X_dev_flat  = (X_dev.astype(np.float32) / 255.0).reshape(len(X_dev), -1)\n",
    "X_test_flat = (X_test.astype(np.float32) / 255.0).reshape(len(X_test), -1)"
   ]
  },
  {
   "cell_type": "markdown",
   "id": "7b384b34",
   "metadata": {},
   "source": [
    "### <font color= #bbc28d>• **Noise Insertion** </font>\n",
    "To improve generalization, we will use `ImageDataGenerator` from Keras to synthetically augment the training images. This includes transformations such as random zooms, horizontal flips, and other small variations. These augmentations are **applied only to the training set**, while the development and test sets remain unchanged, allowing us to evaluate the models on the original data and ensure they generalize well."
   ]
  },
  {
   "cell_type": "code",
   "execution_count": 8,
   "id": "81b150a8",
   "metadata": {},
   "outputs": [],
   "source": [
    "# Data generator to add noise / transformations\n",
    "datagen = ImageDataGenerator(  \n",
    "    rotation_range=10,                  # Image Rotation\n",
    "    width_shift_range=0.1,              # Width Shift\n",
    "    height_shift_range=0.1,             # Height Shift\n",
    "    shear_range=0.05,                   # Axis Bias\n",
    "    zoom_range=0.1,                     # Zoom\n",
    "    horizontal_flip=True,               # Horizontal Split\n",
    ")\n",
    "\n",
    "# Generate augmented images \n",
    "data_gen_train = datagen.flow(X_train_norm, y_train, batch_size=32, seed=42)"
   ]
  },
  {
   "cell_type": "code",
   "execution_count": 10,
   "id": "a6c915b9",
   "metadata": {},
   "outputs": [
    {
     "data": {
      "image/png": "[encoded data removed]",
      "text/plain": [
       "<Figure size 640x480 with 11 Axes>"
      ]
     },
     "metadata": {},
     "output_type": "display_data"
    }
   ],
   "source": [
    "# Visualization\n",
    "plt.title('Fashion MNIST Images with Noise')\n",
    "plt.axis(\"off\")\n",
    "for imagen, etiqueta in data_gen_train:\n",
    "  for i in range(10):\n",
    "    plt.subplot(2,5,i+1)\n",
    "    plt.xticks([])\n",
    "    plt.yticks([])\n",
    "    plt.imshow(imagen[i])\n",
    "  break\n",
    "plt.show()"
   ]
  },
  {
   "cell_type": "markdown",
   "id": "6509ddff",
   "metadata": {},
   "source": [
    "The variable _data-gen-train_ contains the images with noise added, in adequate dimensions for a Keras Convolutional Neural Network (CNN). "
   ]
  },
  {
   "cell_type": "markdown",
   "id": "0d71c82b",
   "metadata": {},
   "source": [
    "### <font color= #bbc28d>• **Image Vectorization** </font>\n",
    "Some of the models used in this notebook only accept vectorized input variables. Thus, we have to vectorize _data-gen-train_."
   ]
  },
  {
   "cell_type": "code",
   "execution_count": 11,
   "id": "31cf74fa",
   "metadata": {},
   "outputs": [],
   "source": [
    "X_train_aug = []\n",
    "y_train_aug = []\n",
    "\n",
    "for i in range(len(data_gen_train)):\n",
    "    X_batch, y_batch = data_gen_train[i]\n",
    "    X_train_aug.append(X_batch)\n",
    "    y_train_aug.append(y_batch)\n",
    "\n",
    "X_train_aug = np.concatenate(X_train_aug)\n",
    "y_train_aug = np.concatenate(y_train_aug)\n",
    "\n",
    "# Flatten for Random Forest\n",
    "X_train_flat = X_train_aug.reshape(len(X_train_aug), -1)"
   ]
  },
  {
   "cell_type": "markdown",
   "id": "3395ce42",
   "metadata": {},
   "source": [
    "In the end, after all the data pre-processing we have the next datasets:\n",
    "- **Train** - X_train_flat, y_train_aug\n",
    "- **Dev** - X_dev_flat, y_dev\n",
    "- **Test** - X_test_flat, y_test\n",
    "\n",
    "All ready to be passed into sci-kit learn models."
   ]
  },
  {
   "cell_type": "markdown",
   "id": "1f60abcd",
   "metadata": {},
   "source": [
    "# <font color= #bbc28d> **Logistic Regression** </font>"
   ]
  },
  {
   "cell_type": "markdown",
   "id": "bc9462ab",
   "metadata": {},
   "source": [
    "# <font color= #bbc28d> **SVM** </font>"
   ]
  },
  {
   "cell_type": "markdown",
   "id": "27cf23d6",
   "metadata": {},
   "source": [
    "# <font color= #bbc28d> **Random Forest Classifier** </font>"
   ]
  },
  {
   "cell_type": "code",
   "execution_count": null,
   "id": "76374fbd",
   "metadata": {},
   "outputs": [
    {
     "name": "stdout",
     "output_type": "stream",
     "text": [
      "Train Accuracy: 0.839\n",
      "Test Accuracy: 0.775\n"
     ]
    }
   ],
   "source": [
    "from sklearn.ensemble import RandomForestClassifier\n",
    "\n",
    "clf =  RandomForestClassifier(n_estimators = 25, max_depth = 12, random_state = 2)\n",
    "clf.fit(X_train_flat, y_train_aug)"
   ]
  },
  {
   "cell_type": "code",
   "execution_count": 18,
   "id": "6ecd93da",
   "metadata": {},
   "outputs": [
    {
     "name": "stdout",
     "output_type": "stream",
     "text": [
      "Train Accuracy: 0.839\n",
      "Dev Accuracy: 0.775\n",
      "Test Accuracy: 0.767\n"
     ]
    }
   ],
   "source": [
    "dev_acc = clf.score(X_dev_flat, y_dev)\n",
    "train_acc = clf.score(X_train_flat, y_train_aug)\n",
    "test_acc = clf.score(X_test_flat, y_test)\n",
    "print(f\"Train Accuracy: {train_acc:.3f}\")\n",
    "print(f\"Dev Accuracy: {dev_acc:.3f}\")\n",
    "print(f\"Test Accuracy: {test_acc:.3f}\")"
   ]
  },
  {
   "cell_type": "markdown",
   "id": "00e35e3e",
   "metadata": {},
   "source": [
    "# <font color= #bbc28d> **Multilayered Perceptron** </font>"
   ]
  },
  {
   "cell_type": "markdown",
   "id": "af777ed9",
   "metadata": {},
   "source": [
    "# <font color= #bbc28d> **Convolutional Neural Network** </font>"
   ]
  },
  {
   "cell_type": "code",
   "execution_count": null,
   "id": "045ffa54",
   "metadata": {},
   "outputs": [],
   "source": [
    "# Checking GPU access\n",
    "print(torch.cuda.is_available())\n",
    "device = torch.device(\"cuda\" if torch.cuda.is_available() else \"dont\")\n",
    "print(device)"
   ]
  },
  {
   "cell_type": "code",
   "execution_count": null,
   "id": "2a54b24b",
   "metadata": {},
   "outputs": [],
   "source": [
    "torch.cuda.manual_seed(42)\n",
    "torch.cuda.manual_seed_all(42)"
   ]
  },
  {
   "cell_type": "code",
   "execution_count": null,
   "id": "ad66dce0",
   "metadata": {},
   "outputs": [],
   "source": [
    "# Transformation pipeline to turn images into tensors, and normalizing said images (DIFERENTE A LA QUE VAMOS A USAR PARA LAS PRUEBAS!!!!!!!!!!!!!!!)\n",
    "transform = transforms.Compose([\n",
    "    transforms.ToTensor(),\n",
    "    transforms.Normalize(mean=0.5, std=0.5),\n",
    "])"
   ]
  },
  {
   "cell_type": "code",
   "execution_count": null,
   "id": "851ce3ae",
   "metadata": {},
   "outputs": [],
   "source": [
    "# Loading the data\n",
    "\n",
    "train_data = torchdata.FashionMNIST(root='./Data', train=True, download=True, transform=transform)\n",
    "test_data = torchdata.FashionMNIST(root='./Data', train=False, download=True, transform=transform)\n",
    "\n",
    "BATCH_SIZE = 64\n",
    "\n",
    "trainloader = DataLoader(train_data, batch_size= BATCH_SIZE, shuffle=True)\n",
    "testloader = DataLoader(test_data, batch_size= BATCH_SIZE, shuffle=True)"
   ]
  },
  {
   "cell_type": "code",
   "execution_count": null,
   "id": "8a7cd883",
   "metadata": {},
   "outputs": [],
   "source": [
    "# Pre-Viz of the images\n",
    "class_names = [\"T-Shirt/Top\", \"Trouser\", \"Pullover\", \"Dress\", \"Coat\", \n",
    "               \"Sandal\", \"Shirt\", \"Sneaker\", \"Bag\", \"Ankle Boot\"]\n",
    "\n",
    "images, labels = next(iter(trainloader))\n",
    "\n",
    "preview = plt.figure(figsize=(18,12))\n",
    "for i in range(20):\n",
    "    ax = preview.add_subplot(4, 5, i+1)\n",
    "    ax.imshow(np.squeeze(images[i].numpy()), cmap='seismic')\n",
    "    ax.set_title(class_names[labels[i].item()])\n",
    "    ax.axis('off')\n",
    "plt.show()"
   ]
  },
  {
   "cell_type": "code",
   "execution_count": null,
   "id": "1740cdd8",
   "metadata": {},
   "outputs": [],
   "source": [
    "# Defining the model architecture\n",
    "\n",
    "class CNN(nn.Module):\n",
    "    def __init__(self):\n",
    "        super(CNN, self).__init__()\n",
    "        self.conv1 = nn.Conv2d(in_channels=1, out_channels=16, kernel_size=3, padding=1)\n",
    "        self.conv2 = nn.Conv2d(in_channels=16, out_channels=32, kernel_size= 3, padding=1)\n",
    "        self.pool = nn.MaxPool2d(kernel_size=2, stride=2)\n",
    "\n",
    "        self.fc1 = nn.Linear(32 * 7 * 7, 128)\n",
    "        self.dropout = nn.Dropout(0.25)\n",
    "        self.fc2 = nn.Linear(128, 10)\n",
    "    def forward(self, x):\n",
    "        x = self.pool(F.relu(self.conv1(x)))\n",
    "        x = self.pool(F.relu(self.conv2(x)))\n",
    "\n",
    "        x = x.view(x.size(0), -1)\n",
    "\n",
    "        x = F.relu(self.fc1(x))\n",
    "        x = self.dropout(x)\n",
    "        x = self.fc2(x)\n",
    "        return x\n",
    "\n",
    "model = CNN().to(device)\n",
    "print(model)"
   ]
  },
  {
   "cell_type": "code",
   "execution_count": null,
   "id": "f08013b1",
   "metadata": {},
   "outputs": [],
   "source": [
    "# Training model\n",
    "\n",
    "criterion = nn.CrossEntropyLoss()\n",
    "optimizer = torch.optim.Adam(model.parameters(), lr=0.001)\n",
    "\n",
    "# Lists for visualization later\n",
    "train_loss = []\n",
    "\n",
    "# Training loop\n",
    "\n",
    "EPOCHS = 7 # Doing trial and error testing, 7 appears to be the sweet spot in the number of epochs to avoid overfitting the model\n",
    "for epoch in range(EPOCHS):\n",
    "    start_time = time.time()\n",
    "    model.train()\n",
    "    running_loss = 0\n",
    "    for i, (images, labels) in enumerate(trainloader):\n",
    "        images, labels = images.to(device), labels.to(device)\n",
    "\n",
    "        optimizer.zero_grad()\n",
    "\n",
    "        outputs = model(images)\n",
    "        loss = criterion(outputs, labels)\n",
    "\n",
    "        loss.backward()\n",
    "        optimizer.step()\n",
    "\n",
    "        running_loss += loss.item()\n",
    "    \n",
    "    training_loss = running_loss/len(trainloader)\n",
    "    train_loss.append(training_loss)\n",
    "    \n",
    "    print(f'Epoch: {epoch + 1}. Loss {training_loss:.2f}. Time Taken: {(time.time() - start_time):.2f}')"
   ]
  },
  {
   "cell_type": "code",
   "execution_count": null,
   "id": "bb32ac07",
   "metadata": {},
   "outputs": [],
   "source": [
    "# Training loss over time\n",
    "\n",
    "plt.figure(figsize=(8,8))\n",
    "plt.title(\"Training Loss over the epochs\")\n",
    "plt.plot(train_loss, label=\"Training Loss\")\n",
    "plt.xlabel(\"Epochs\")\n",
    "plt.ylabel(\"Loss\")\n",
    "plt.legend(fontsize=14)"
   ]
  },
  {
   "cell_type": "code",
   "execution_count": null,
   "id": "bfaf257c",
   "metadata": {},
   "outputs": [],
   "source": [
    "# Model evaluation\n",
    "model.eval()\n",
    "correct = 0\n",
    "total = 0\n",
    "\n",
    "with torch.no_grad():\n",
    "    for images, labels in testloader:\n",
    "        images, labels = images.to(device), labels.to(device)\n",
    "        outputs = model(images)\n",
    "        _, predicted = torch.max(outputs.data, 1)\n",
    "        total += labels.size(0)\n",
    "        correct += (predicted == labels).sum().item()\n",
    "\n",
    "accuracy = 100 * (correct / total)\n",
    "print(f\"Accuracy: {accuracy:.4f}\")"
   ]
  }
 ],
 "metadata": {
  "kernelspec": {
   "display_name": "ml311",
   "language": "python",
   "name": "python3"
  },
  "language_info": {
   "codemirror_mode": {
    "name": "ipython",
    "version": 3
   },
   "file_extension": ".py",
   "mimetype": "text/x-python",
   "name": "python",
   "nbconvert_exporter": "python",
   "pygments_lexer": "ipython3",
   "version": "3.11.13"
  }
 },
 "nbformat": 4,
 "nbformat_minor": 5
}
